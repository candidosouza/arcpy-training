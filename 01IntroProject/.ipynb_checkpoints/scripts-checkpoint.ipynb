{
 "cells": [
  {
   "cell_type": "markdown",
   "metadata": {},
   "source": [
    "### Importação de bibliotecas"
   ]
  },
  {
   "cell_type": "code",
   "execution_count": 17,
   "metadata": {},
   "outputs": [],
   "source": [
    "import arcpy"
   ]
  },
  {
   "cell_type": "markdown",
   "metadata": {},
   "source": [
    "### configurações"
   ]
  },
  {
   "cell_type": "code",
   "execution_count": 18,
   "metadata": {
    "scrolled": true
   },
   "outputs": [],
   "source": [
    "arcpy.env.overwriteOutput = True\n",
    "\n",
    "# Define o Geodatabase como o diretório de trabalho\n",
    "# Defina o ambiente de trabalho (workspace)\n",
    "# Agora, todas as operações geoespaciais subsequentes, como criação de feições ou análise espacial,\n",
    "# serão realizadas dentro desse Geodatabase, a menos que caminhos completos sejam especificados.\n",
    "arcpy.env.workspace = r\"C:\\\\projects\\\\arcpy-training\\\\01IntroProject\\\\01IntroProject.gdb\"\n"
   ]
  },
  {
   "cell_type": "markdown",
   "metadata": {},
   "source": [
    "### Manipulando feature class"
   ]
  },
  {
   "cell_type": "code",
   "execution_count": 27,
   "metadata": {},
   "outputs": [
    {
     "name": "stdout",
     "output_type": "stream",
     "text": [
      "C:\\projects\\arcpy-training\\data\\ne_10m_admin_0_countries.shp has 255 feature(s)\n",
      "result analysis Select C:\\\\projects\\\\arcpy-training\\\\01IntroProject\\\\01IntroProject.gdb\\India\n",
      "O número de registros em C:\\projects\\arcpy-training\\data\\ne_10m_admin_0_countries.shp é: 255\n"
     ]
    }
   ],
   "source": [
    "fc = \"C:\\\\projects\\\\arcpy-training\\\\data\\\\ne_10m_admin_0_countries.shp\"\n",
    "\n",
    "# 1. cria um novo shapefile chamado Countries\n",
    "# 2. copia as feições do shapefile ne_10m_admin_0_countries.shp para o shapefile Countries\n",
    "# arcpy.management.CopyFeatures(\"C:\\\\projects\\\\arcpy-training\\\\src\\\\data\\\\ne_10m_admin_0_countries.shp\", \"Countries\")\n",
    "\n",
    "# 1. conta as feições do shapefile ne_10m_admin_0_countries.shp\n",
    "# 2. imprime o resultado no console\n",
    "num_feats = arcpy.management.GetCount(fc)\n",
    "print(f\"{fc} has {num_feats} feature(s)\")\n",
    "\n",
    "# 1. cria um novo shapefile chamado India\n",
    "# 2. copia as feições do shapefile ne_10m_admin_0_countries.shp para o shapefile India\n",
    "# 3. seleciona as feições do shapefile India onde o atributo NAME é igual a 'India'\n",
    "result_test = arcpy.analysis.Select(fc, \"India\",  \"NAME = 'India'\")\n",
    "print(\"result analysis Select\", result_test)\n",
    "\n",
    "\n",
    "# arcpy.GetCount_management(fc) retorna um objeto de resultado que contém informações sobre o número de registros na camada ou tabela especificada.\n",
    "# result.getOutput(0) é usado para extrair o valor do resultado. O método getOutput(0) é utilizado porque o resultado pode conter várias informações, e o valor desejado geralmente está no índice 0.\n",
    "# int(result.getOutput(0)) converte o valor extraído para um número inteiro.\n",
    "result = arcpy.GetCount_management(fc)\n",
    "\n",
    "\n",
    "# Extraindo o valor do resultado\n",
    "count = int(result.getOutput(0))\n",
    "\n",
    "# Imprimindo o resultado\n",
    "print(f'O número de registros em {fc} é: {count}')"
   ]
  },
  {
   "cell_type": "markdown",
   "metadata": {},
   "source": [
    "### Importando arquivo .dwg autoCad"
   ]
  },
  {
   "cell_type": "code",
   "execution_count": 2,
   "metadata": {},
   "outputs": [
    {
     "data": {
      "text/html": [
       "<div class='gpresult'><h2>Messages</h2><div id='messages' data-messages='[\"Start Time: terça-feira, 23 de janeiro de 2024 08:26:25\",\"Succeeded at terça-feira, 23 de janeiro de 2024 08:27:11 (Elapsed Time: 45,67 seconds)\"]' data-show='true'><div id = 'default' /></div></div>"
      ],
      "text/plain": [
       "<Result 'C:\\\\\\\\projects\\\\\\\\arcpy-training\\\\\\\\01IntroProject\\\\\\\\01IntroProject.gdb\\\\CamadasCAD'>"
      ]
     },
     "execution_count": 2,
     "metadata": {},
     "output_type": "execute_result"
    }
   ],
   "source": [
    "# Caminho para o arquivo DWG\n",
    "caminho_dwg = r\"C:\\\\Users\\\\candido.neto\\\\Downloads\\\\espec_geo_modulo_1-3_material\\\\espec_geo_modulo_1-3_material\\\\espec_geo_mod_1-3_aula_1_dados\\\\carta_topografica.dwg\"\n",
    "\n",
    "# Nome da saída no Geodatabase\n",
    "nome_saida = \"CamadasCAD\"\n",
    "    \n",
    "# Use a ferramenta CADToGeodatabase para importar o DWG\n",
    "arcpy.CADToGeodatabase_conversion(caminho_dwg, workspace, nome_saida, \"2004\")"
   ]
  },
  {
   "cell_type": "code",
   "execution_count": null,
   "metadata": {},
   "outputs": [],
   "source": []
  },
  {
   "cell_type": "code",
   "execution_count": null,
   "metadata": {},
   "outputs": [],
   "source": []
  }
 ],
 "metadata": {
  "kernelspec": {
   "display_name": "ArcGISPro",
   "language": "Python",
   "name": "python3"
  },
  "language_info": {
   "file_extension": ".py",
   "name": "python",
   "version": "3"
  }
 },
 "nbformat": 4,
 "nbformat_minor": 2
}
