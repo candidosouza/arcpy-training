{
 "cells": [
  {
   "cell_type": "markdown",
   "metadata": {},
   "source": [
    "### Importação de bibliotecas"
   ]
  },
  {
   "cell_type": "code",
   "execution_count": 7,
   "metadata": {},
   "outputs": [],
   "source": [
    "import arcpy"
   ]
  },
  {
   "cell_type": "markdown",
   "metadata": {},
   "source": [
    "### configurações"
   ]
  },
  {
   "cell_type": "code",
   "execution_count": 12,
   "metadata": {
    "scrolled": true
   },
   "outputs": [],
   "source": [
    "# O código arcpy.env.overwriteOutput = True no arcpy configura a opção de sobrescrever saída. \n",
    "#Quando overwriteOutput está definido como True, o ArcGIS permite que os resultados de \n",
    "#operações geoprocessamento substituam quaisquer dados existentes com o mesmo nome.\n",
    "arcpy.env.overwriteOutput = True\n",
    "\n",
    "# Define o Geodatabase como o diretório de trabalho\n",
    "# Defina o ambiente de trabalho (workspace)\n",
    "# Agora, todas as operações geoespaciais subsequentes, como criação de feições ou análise espacial,\n",
    "# serão realizadas dentro desse Geodatabase, a menos que caminhos completos sejam especificados.\n",
    "workspace = arcpy.env.workspace = r\"C:\\\\projects\\\\arcpy-training\"\n",
    "out_gdb_path = r\"C:\\\\projects\\\\arcpy-training\\\\01IntroProject\\\\01IntroProject.gdb\""
   ]
  },
  {
   "cell_type": "markdown",
   "metadata": {},
   "source": [
    "### Manipulando feature class"
   ]
  },
  {
   "cell_type": "code",
   "execution_count": 27,
   "metadata": {},
   "outputs": [
    {
     "name": "stdout",
     "output_type": "stream",
     "text": [
      "C:\\projects\\arcpy-training\\data\\ne_10m_admin_0_countries.shp has 255 feature(s)\n",
      "result analysis Select C:\\\\projects\\\\arcpy-training\\\\01IntroProject\\\\01IntroProject.gdb\\India\n",
      "O número de registros em C:\\projects\\arcpy-training\\data\\ne_10m_admin_0_countries.shp é: 255\n"
     ]
    }
   ],
   "source": [
    "fc = \"C:\\\\projects\\\\arcpy-training\\\\data\\\\ne_10m_admin_0_countries.shp\"\n",
    "\n",
    "# 1. cria um novo shapefile chamado Countries\n",
    "# 2. copia as feições do shapefile ne_10m_admin_0_countries.shp para o shapefile Countries\n",
    "# arcpy.management.CopyFeatures(\"C:\\\\projects\\\\arcpy-training\\\\src\\\\data\\\\ne_10m_admin_0_countries.shp\", \"Countries\")\n",
    "\n",
    "# 1. conta as feições do shapefile ne_10m_admin_0_countries.shp\n",
    "# 2. imprime o resultado no console\n",
    "num_feats = arcpy.management.GetCount(fc)\n",
    "print(f\"{fc} has {num_feats} feature(s)\")\n",
    "\n",
    "# 1. cria um novo shapefile chamado India\n",
    "# 2. copia as feições do shapefile ne_10m_admin_0_countries.shp para o shapefile India\n",
    "# 3. seleciona as feições do shapefile India onde o atributo NAME é igual a 'India'\n",
    "result_test = arcpy.analysis.Select(fc, \"India\",  \"NAME = 'India'\")\n",
    "print(\"result analysis Select\", result_test)\n",
    "\n",
    "\n",
    "# arcpy.GetCount_management(fc) retorna um objeto de resultado que contém informações sobre o número de registros na camada ou tabela especificada.\n",
    "# result.getOutput(0) é usado para extrair o valor do resultado. O método getOutput(0) é utilizado porque o resultado pode conter várias informações, e o valor desejado geralmente está no índice 0.\n",
    "# int(result.getOutput(0)) converte o valor extraído para um número inteiro.\n",
    "result = arcpy.GetCount_management(fc)\n",
    "\n",
    "\n",
    "# Extraindo o valor do resultado\n",
    "count = int(result.getOutput(0))\n",
    "\n",
    "# Imprimindo o resultado\n",
    "print(f'O número de registros em {fc} é: {count}')"
   ]
  },
  {
   "cell_type": "markdown",
   "metadata": {},
   "source": [
    "### Importando arquivo .dwg autoCad"
   ]
  },
  {
   "cell_type": "code",
   "execution_count": 19,
   "metadata": {},
   "outputs": [
    {
     "data": {
      "text/html": [
       "<div class='gpresult'><h2>Messages</h2><div id='messages' data-messages='[\"Start Time: terça-feira, 23 de janeiro de 2024 09:45:00\",\"WARNING 000594: Input feature 449: falls outside of output geometry domains.\",\"WARNING 000595: C:\\\\Users\\\\CANDID~1.NET\\\\AppData\\\\Local\\\\Temp\\\\ArcGISProTemp12044\\\\Annotation3.fid contains the full list of records not able to be processed.\",\"WARNING 000594: Input feature 3621: falls outside of output geometry domains.\",\"WARNING 000595: C:\\\\Users\\\\CANDID~1.NET\\\\AppData\\\\Local\\\\Temp\\\\ArcGISProTemp12044\\\\Polyline3.fid contains the full list of records not able to be processed.\",\"Succeeded at terça-feira, 23 de janeiro de 2024 09:45:39 (Elapsed Time: 38,42 seconds)\"]' data-show='true'><div id = 'default' /></div></div>"
      ],
      "text/plain": [
       "<Result 'C:\\\\\\\\projects\\\\\\\\arcpy-training\\\\\\\\01IntroProject\\\\\\\\01IntroProject.gdb\\\\analysisresults'>"
      ]
     },
     "execution_count": 19,
     "metadata": {},
     "output_type": "execute_result"
    }
   ],
   "source": [
    "# Caminho para o arquivo DWG\n",
    "# file_dwg = r\"C:\\\\Users\\\\candido.neto\\\\Downloads\\\\espec_geo_modulo_1-3_material\\\\espec_geo_modulo_1-3_material\\\\espec_geo_mod_1-3_aula_1_dados\\\\carta_topografica.dwg\"\n",
    "\n",
    "# Nome da saída no Geodatabase\n",
    "# out_dataset_name  = \"CamadasCAD\"\n",
    "    \n",
    "# Use a ferramenta CADToGeodatabase para importar o DWG\n",
    "# o argumento \"2004\" se refere à versão do formato do Geodatabase para o qual os dados CAD \n",
    "# estão sendo convertidos. Nesse caso, \"2004\" representa a versão disponível no ArcGIS Pro.\n",
    "# arcpy.CADToGeodatabase_conversion(file_dwg, out_gdb_path, out_dataset_name, \"2004\")\n",
    "\n",
    "\n",
    "# Description: Create a feature dataset\n",
    "\n",
    "# Importando a biblioteca\n",
    "import arcpy\n",
    "\n",
    "# Definindo o ambiente de trabalho (workspace)\n",
    "arcpy.env.workspace = r\"C:\\\\projects\\\\arcpy-training\"\n",
    "\n",
    "# Definindo as variáveis local\n",
    "input_cad_dataset = r\"C:\\\\projects\\\\arcpy-training\\\\data\\\\\\carta_topografica.dwg\"\n",
    "out_gdb_path = r\"C:\\\\projects\\\\arcpy-training\\\\01IntroProject\\\\01IntroProject.gdb\"\n",
    "out_dataset_name = \"analysisresults\"\n",
    "reference_scale = \"1000\"\n",
    "# Código EPSG para Sirgas 2000\n",
    "# sirgas_2000_epsg = 4674\n",
    "# spatial reference para sirgas 2000\n",
    "sr_sirgas_2000 = 'GCS_SIRGAS_2000'\n",
    "\n",
    "# Create a file geodatabase for the feature dataset\n",
    "arcpy.management.CreateFileGDB(\"C:\\\\projects\\\\arcpy-training\\\\01IntroProject\", \"01IntroProject.gdb\")\n",
    "\n",
    "# Run CreateFeaturedataset\n",
    "arcpy.conversion.CADToGeodatabase(input_cad_dataset, out_gdb_path,\n",
    "                                  out_dataset_name, reference_scale,\n",
    "                                  sr_sirgas_2000)\n"
   ]
  },
  {
   "cell_type": "code",
   "execution_count": null,
   "metadata": {},
   "outputs": [],
   "source": []
  },
  {
   "cell_type": "code",
   "execution_count": null,
   "metadata": {},
   "outputs": [],
   "source": []
  }
 ],
 "metadata": {
  "kernelspec": {
   "display_name": "ArcGISPro",
   "language": "Python",
   "name": "python3"
  },
  "language_info": {
   "file_extension": ".py",
   "name": "python",
   "version": "3"
  }
 },
 "nbformat": 4,
 "nbformat_minor": 2
}
